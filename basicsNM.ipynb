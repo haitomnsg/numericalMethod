{
 "cells": [
  {
   "cell_type": "markdown",
   "id": "64f799ef",
   "metadata": {},
   "source": [
    "### Using the Defult Fucnction"
   ]
  },
  {
   "cell_type": "code",
   "execution_count": 2,
   "id": "88122a28",
   "metadata": {},
   "outputs": [],
   "source": [
    "def f(x):\n",
    "    return x**2 - 1"
   ]
  },
  {
   "cell_type": "code",
   "execution_count": 3,
   "id": "42822463",
   "metadata": {},
   "outputs": [
    {
     "name": "stdout",
     "output_type": "stream",
     "text": [
      "1023\n"
     ]
    }
   ],
   "source": [
    "print(f(32))"
   ]
  },
  {
   "cell_type": "markdown",
   "id": "2ed9a3ed",
   "metadata": {},
   "source": [
    "### Using a Lambda Function"
   ]
  },
  {
   "cell_type": "code",
   "execution_count": 9,
   "id": "6bfcfd73",
   "metadata": {},
   "outputs": [],
   "source": [
    "f_lambda = lambda x: x**2 - 1"
   ]
  },
  {
   "cell_type": "code",
   "execution_count": 10,
   "id": "c4eb5ef6",
   "metadata": {},
   "outputs": [
    {
     "name": "stdout",
     "output_type": "stream",
     "text": [
      "1023\n"
     ]
    }
   ],
   "source": [
    "print(f_lambda(32))"
   ]
  },
  {
   "cell_type": "code",
   "execution_count": null,
   "id": "0d5a5f72",
   "metadata": {},
   "outputs": [],
   "source": []
  }
 ],
 "metadata": {
  "kernelspec": {
   "display_name": "Python 3",
   "language": "python",
   "name": "python3"
  },
  "language_info": {
   "codemirror_mode": {
    "name": "ipython",
    "version": 3
   },
   "file_extension": ".py",
   "mimetype": "text/x-python",
   "name": "python",
   "nbconvert_exporter": "python",
   "pygments_lexer": "ipython3",
   "version": "3.13.4"
  }
 },
 "nbformat": 4,
 "nbformat_minor": 5
}
